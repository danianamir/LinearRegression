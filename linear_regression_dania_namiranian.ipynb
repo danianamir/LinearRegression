{
 "cells": [
  {
   "cell_type": "markdown",
   "id": "860c25c3",
   "metadata": {},
   "source": []
  },
  {
   "cell_type": "code",
   "execution_count": 95,
   "id": "422ffc67",
   "metadata": {},
   "outputs": [],
   "source": [
    "import pandas as pd\n",
    "import numpy as np\n",
    "import matplotlib.pyplot as plt\n",
    "import copy, math\n"
   ]
  },
  {
   "cell_type": "markdown",
   "id": "b098d2c6",
   "metadata": {},
   "source": [
    "# In this section, we read the data, which includes three variables: TV, Radio, and Newspaper, with the output being sales based on these three variables   "
   ]
  },
  {
   "cell_type": "code",
   "execution_count": 96,
   "id": "a72d8632",
   "metadata": {},
   "outputs": [
    {
     "data": {
      "text/html": [
       "<div>\n",
       "<style scoped>\n",
       "    .dataframe tbody tr th:only-of-type {\n",
       "        vertical-align: middle;\n",
       "    }\n",
       "\n",
       "    .dataframe tbody tr th {\n",
       "        vertical-align: top;\n",
       "    }\n",
       "\n",
       "    .dataframe thead th {\n",
       "        text-align: right;\n",
       "    }\n",
       "</style>\n",
       "<table border=\"1\" class=\"dataframe\">\n",
       "  <thead>\n",
       "    <tr style=\"text-align: right;\">\n",
       "      <th></th>\n",
       "      <th>TV</th>\n",
       "      <th>Radio</th>\n",
       "      <th>Newspaper</th>\n",
       "      <th>Sales</th>\n",
       "    </tr>\n",
       "  </thead>\n",
       "  <tbody>\n",
       "    <tr>\n",
       "      <th>0</th>\n",
       "      <td>230.1</td>\n",
       "      <td>37.8</td>\n",
       "      <td>69.2</td>\n",
       "      <td>22.1</td>\n",
       "    </tr>\n",
       "    <tr>\n",
       "      <th>1</th>\n",
       "      <td>44.5</td>\n",
       "      <td>39.3</td>\n",
       "      <td>45.1</td>\n",
       "      <td>10.4</td>\n",
       "    </tr>\n",
       "    <tr>\n",
       "      <th>2</th>\n",
       "      <td>17.2</td>\n",
       "      <td>45.9</td>\n",
       "      <td>69.3</td>\n",
       "      <td>12.0</td>\n",
       "    </tr>\n",
       "    <tr>\n",
       "      <th>3</th>\n",
       "      <td>151.5</td>\n",
       "      <td>41.3</td>\n",
       "      <td>58.5</td>\n",
       "      <td>16.5</td>\n",
       "    </tr>\n",
       "    <tr>\n",
       "      <th>4</th>\n",
       "      <td>180.8</td>\n",
       "      <td>10.8</td>\n",
       "      <td>58.4</td>\n",
       "      <td>17.9</td>\n",
       "    </tr>\n",
       "    <tr>\n",
       "      <th>...</th>\n",
       "      <td>...</td>\n",
       "      <td>...</td>\n",
       "      <td>...</td>\n",
       "      <td>...</td>\n",
       "    </tr>\n",
       "    <tr>\n",
       "      <th>195</th>\n",
       "      <td>38.2</td>\n",
       "      <td>3.7</td>\n",
       "      <td>13.8</td>\n",
       "      <td>7.6</td>\n",
       "    </tr>\n",
       "    <tr>\n",
       "      <th>196</th>\n",
       "      <td>94.2</td>\n",
       "      <td>4.9</td>\n",
       "      <td>8.1</td>\n",
       "      <td>14.0</td>\n",
       "    </tr>\n",
       "    <tr>\n",
       "      <th>197</th>\n",
       "      <td>177.0</td>\n",
       "      <td>9.3</td>\n",
       "      <td>6.4</td>\n",
       "      <td>14.8</td>\n",
       "    </tr>\n",
       "    <tr>\n",
       "      <th>198</th>\n",
       "      <td>283.6</td>\n",
       "      <td>42.0</td>\n",
       "      <td>66.2</td>\n",
       "      <td>25.5</td>\n",
       "    </tr>\n",
       "    <tr>\n",
       "      <th>199</th>\n",
       "      <td>232.1</td>\n",
       "      <td>8.6</td>\n",
       "      <td>8.7</td>\n",
       "      <td>18.4</td>\n",
       "    </tr>\n",
       "  </tbody>\n",
       "</table>\n",
       "<p>200 rows × 4 columns</p>\n",
       "</div>"
      ],
      "text/plain": [
       "        TV  Radio  Newspaper  Sales\n",
       "0    230.1   37.8       69.2   22.1\n",
       "1     44.5   39.3       45.1   10.4\n",
       "2     17.2   45.9       69.3   12.0\n",
       "3    151.5   41.3       58.5   16.5\n",
       "4    180.8   10.8       58.4   17.9\n",
       "..     ...    ...        ...    ...\n",
       "195   38.2    3.7       13.8    7.6\n",
       "196   94.2    4.9        8.1   14.0\n",
       "197  177.0    9.3        6.4   14.8\n",
       "198  283.6   42.0       66.2   25.5\n",
       "199  232.1    8.6        8.7   18.4\n",
       "\n",
       "[200 rows x 4 columns]"
      ]
     },
     "execution_count": 96,
     "metadata": {},
     "output_type": "execute_result"
    }
   ],
   "source": [
    "df=pd.read_csv(\"D:\\data_advertising.csv\")\n",
    "df\n"
   ]
  },
  {
   "cell_type": "markdown",
   "id": "a37dfd4a",
   "metadata": {},
   "source": [
    "\n",
    "# In the section below, we have plotted the sales chart against each of the three inputs, namely the amount of advertising in TV, Radio, and Newspaper"
   ]
  },
  {
   "cell_type": "code",
   "execution_count": 97,
   "id": "0f1186f1",
   "metadata": {
    "scrolled": true
   },
   "outputs": [
    {
     "data": {
      "text/plain": [
       "<AxesSubplot:xlabel='Newspaper', ylabel='Sales'>"
      ]
     },
     "execution_count": 97,
     "metadata": {},
     "output_type": "execute_result"
    },
    {
     "data": {
      "image/png": "[encoded data removed]",
      "text/plain": [
       "<Figure size 432x288 with 1 Axes>"
      ]
     },
     "metadata": {
      "needs_background": "light"
     },
     "output_type": "display_data"
    },
    {
     "data": {
      "image/png": "[encoded data removed]",
      "text/plain": [
       "<Figure size 432x288 with 1 Axes>"
      ]
     },
     "metadata": {
      "needs_background": "light"
     },
     "output_type": "display_data"
    },
    {
     "data": {
      "image/png": "[encoded data removed]",
      "text/plain": [
       "<Figure size 432x288 with 1 Axes>"
      ]
     },
     "metadata": {
      "needs_background": "light"
     },
     "output_type": "display_data"
    }
   ],
   "source": [
    "df.plot(x='TV',y='Sales',kind='scatter')\n",
    "df.plot(x='Radio',y='Sales',kind='scatter')\n",
    "df.plot(x='Newspaper',y='Sales',kind='scatter')\n"
   ]
  },
  {
   "cell_type": "markdown",
   "id": "0379eb5a",
   "metadata": {},
   "source": [
    "# Now, we divide the data into two parts: the output, which is the sales vector, and the input, which is the matrix of TV, Radio, and Newspaper"
   ]
  },
  {
   "cell_type": "code",
   "execution_count": 98,
   "id": "23fb6764",
   "metadata": {},
   "outputs": [
    {
     "data": {
      "text/plain": [
       "array([[230.1,  37.8,  69.2],\n",
       "       [ 44.5,  39.3,  45.1],\n",
       "       [ 17.2,  45.9,  69.3],\n",
       "       [151.5,  41.3,  58.5],\n",
       "       [180.8,  10.8,  58.4],\n",
       "       [  8.7,  48.9,  75. ],\n",
       "       [ 57.5,  32.8,  23.5],\n",
       "       [120.2,  19.6,  11.6],\n",
       "       [  8.6,   2.1,   1. ],\n",
       "       [199.8,   2.6,  21.2],\n",
       "       [ 66.1,   5.8,  24.2],\n",
       "       [214.7,  24. ,   4. ],\n",
       "       [ 23.8,  35.1,  65.9],\n",
       "       [ 97.5,   7.6,   7.2],\n",
       "       [204.1,  32.9,  46. ],\n",
       "       [195.4,  47.7,  52.9],\n",
       "       [ 67.8,  36.6, 114. ],\n",
       "       [281.4,  39.6,  55.8],\n",
       "       [ 69.2,  20.5,  18.3],\n",
       "       [147.3,  23.9,  19.1],\n",
       "       [218.4,  27.7,  53.4],\n",
       "       [237.4,   5.1,  23.5],\n",
       "       [ 13.2,  15.9,  49.6],\n",
       "       [228.3,  16.9,  26.2],\n",
       "       [ 62.3,  12.6,  18.3],\n",
       "       [262.9,   3.5,  19.5],\n",
       "       [142.9,  29.3,  12.6],\n",
       "       [240.1,  16.7,  22.9],\n",
       "       [248.8,  27.1,  22.9],\n",
       "       [ 70.6,  16. ,  40.8],\n",
       "       [292.9,  28.3,  43.2],\n",
       "       [112.9,  17.4,  38.6],\n",
       "       [ 97.2,   1.5,  30. ],\n",
       "       [265.6,  20. ,   0.3],\n",
       "       [ 95.7,   1.4,   7.4],\n",
       "       [290.7,   4.1,   8.5],\n",
       "       [266.9,  43.8,   5. ],\n",
       "       [ 74.7,  49.4,  45.7],\n",
       "       [ 43.1,  26.7,  35.1],\n",
       "       [228. ,  37.7,  32. ],\n",
       "       [202.5,  22.3,  31.6],\n",
       "       [177. ,  33.4,  38.7],\n",
       "       [293.6,  27.7,   1.8],\n",
       "       [206.9,   8.4,  26.4],\n",
       "       [ 25.1,  25.7,  43.3],\n",
       "       [175.1,  22.5,  31.5],\n",
       "       [ 89.7,   9.9,  35.7],\n",
       "       [239.9,  41.5,  18.5],\n",
       "       [227.2,  15.8,  49.9],\n",
       "       [ 66.9,  11.7,  36.8],\n",
       "       [199.8,   3.1,  34.6],\n",
       "       [100.4,   9.6,   3.6],\n",
       "       [216.4,  41.7,  39.6],\n",
       "       [182.6,  46.2,  58.7],\n",
       "       [262.7,  28.8,  15.9],\n",
       "       [198.9,  49.4,  60. ],\n",
       "       [  7.3,  28.1,  41.4],\n",
       "       [136.2,  19.2,  16.6],\n",
       "       [210.8,  49.6,  37.7],\n",
       "       [210.7,  29.5,   9.3],\n",
       "       [ 53.5,   2. ,  21.4],\n",
       "       [261.3,  42.7,  54.7],\n",
       "       [239.3,  15.5,  27.3],\n",
       "       [102.7,  29.6,   8.4],\n",
       "       [131.1,  42.8,  28.9],\n",
       "       [ 69. ,   9.3,   0.9],\n",
       "       [ 31.5,  24.6,   2.2],\n",
       "       [139.3,  14.5,  10.2],\n",
       "       [237.4,  27.5,  11. ],\n",
       "       [216.8,  43.9,  27.2],\n",
       "       [199.1,  30.6,  38.7],\n",
       "       [109.8,  14.3,  31.7],\n",
       "       [ 26.8,  33. ,  19.3],\n",
       "       [129.4,   5.7,  31.3],\n",
       "       [213.4,  24.6,  13.1],\n",
       "       [ 16.9,  43.7,  89.4],\n",
       "       [ 27.5,   1.6,  20.7],\n",
       "       [120.5,  28.5,  14.2],\n",
       "       [  5.4,  29.9,   9.4],\n",
       "       [116. ,   7.7,  23.1],\n",
       "       [ 76.4,  26.7,  22.3],\n",
       "       [239.8,   4.1,  36.9],\n",
       "       [ 75.3,  20.3,  32.5],\n",
       "       [ 68.4,  44.5,  35.6],\n",
       "       [213.5,  43. ,  33.8],\n",
       "       [193.2,  18.4,  65.7],\n",
       "       [ 76.3,  27.5,  16. ],\n",
       "       [110.7,  40.6,  63.2],\n",
       "       [ 88.3,  25.5,  73.4],\n",
       "       [109.8,  47.8,  51.4],\n",
       "       [134.3,   4.9,   9.3],\n",
       "       [ 28.6,   1.5,  33. ],\n",
       "       [217.7,  33.5,  59. ],\n",
       "       [250.9,  36.5,  72.3],\n",
       "       [107.4,  14. ,  10.9],\n",
       "       [163.3,  31.6,  52.9],\n",
       "       [197.6,   3.5,   5.9],\n",
       "       [184.9,  21. ,  22. ],\n",
       "       [289.7,  42.3,  51.2],\n",
       "       [135.2,  41.7,  45.9],\n",
       "       [222.4,   4.3,  49.8],\n",
       "       [296.4,  36.3, 100.9],\n",
       "       [280.2,  10.1,  21.4],\n",
       "       [187.9,  17.2,  17.9],\n",
       "       [238.2,  34.3,   5.3],\n",
       "       [137.9,  46.4,  59. ],\n",
       "       [ 25. ,  11. ,  29.7],\n",
       "       [ 90.4,   0.3,  23.2],\n",
       "       [ 13.1,   0.4,  25.6],\n",
       "       [255.4,  26.9,   5.5],\n",
       "       [225.8,   8.2,  56.5],\n",
       "       [241.7,  38. ,  23.2],\n",
       "       [175.7,  15.4,   2.4],\n",
       "       [209.6,  20.6,  10.7],\n",
       "       [ 78.2,  46.8,  34.5],\n",
       "       [ 75.1,  35. ,  52.7],\n",
       "       [139.2,  14.3,  25.6],\n",
       "       [ 76.4,   0.8,  14.8],\n",
       "       [125.7,  36.9,  79.2],\n",
       "       [ 19.4,  16. ,  22.3],\n",
       "       [141.3,  26.8,  46.2],\n",
       "       [ 18.8,  21.7,  50.4],\n",
       "       [224. ,   2.4,  15.6],\n",
       "       [123.1,  34.6,  12.4],\n",
       "       [229.5,  32.3,  74.2],\n",
       "       [ 87.2,  11.8,  25.9],\n",
       "       [  7.8,  38.9,  50.6],\n",
       "       [ 80.2,   0. ,   9.2],\n",
       "       [220.3,  49. ,   3.2],\n",
       "       [ 59.6,  12. ,  43.1],\n",
       "       [  0.7,  39.6,   8.7],\n",
       "       [265.2,   2.9,  43. ],\n",
       "       [  8.4,  27.2,   2.1],\n",
       "       [219.8,  33.5,  45.1],\n",
       "       [ 36.9,  38.6,  65.6],\n",
       "       [ 48.3,  47. ,   8.5],\n",
       "       [ 25.6,  39. ,   9.3],\n",
       "       [273.7,  28.9,  59.7],\n",
       "       [ 43. ,  25.9,  20.5],\n",
       "       [184.9,  43.9,   1.7],\n",
       "       [ 73.4,  17. ,  12.9],\n",
       "       [193.7,  35.4,  75.6],\n",
       "       [220.5,  33.2,  37.9],\n",
       "       [104.6,   5.7,  34.4],\n",
       "       [ 96.2,  14.8,  38.9],\n",
       "       [140.3,   1.9,   9. ],\n",
       "       [240.1,   7.3,   8.7],\n",
       "       [243.2,  49. ,  44.3],\n",
       "       [ 38. ,  40.3,  11.9],\n",
       "       [ 44.7,  25.8,  20.6],\n",
       "       [280.7,  13.9,  37. ],\n",
       "       [121. ,   8.4,  48.7],\n",
       "       [197.6,  23.3,  14.2],\n",
       "       [171.3,  39.7,  37.7],\n",
       "       [187.8,  21.1,   9.5],\n",
       "       [  4.1,  11.6,   5.7],\n",
       "       [ 93.9,  43.5,  50.5],\n",
       "       [149.8,   1.3,  24.3],\n",
       "       [ 11.7,  36.9,  45.2],\n",
       "       [131.7,  18.4,  34.6],\n",
       "       [172.5,  18.1,  30.7],\n",
       "       [ 85.7,  35.8,  49.3],\n",
       "       [188.4,  18.1,  25.6],\n",
       "       [163.5,  36.8,   7.4],\n",
       "       [117.2,  14.7,   5.4],\n",
       "       [234.5,   3.4,  84.8],\n",
       "       [ 17.9,  37.6,  21.6],\n",
       "       [206.8,   5.2,  19.4],\n",
       "       [215.4,  23.6,  57.6],\n",
       "       [284.3,  10.6,   6.4],\n",
       "       [ 50. ,  11.6,  18.4],\n",
       "       [164.5,  20.9,  47.4],\n",
       "       [ 19.6,  20.1,  17. ],\n",
       "       [168.4,   7.1,  12.8],\n",
       "       [222.4,   3.4,  13.1],\n",
       "       [276.9,  48.9,  41.8],\n",
       "       [248.4,  30.2,  20.3],\n",
       "       [170.2,   7.8,  35.2],\n",
       "       [276.7,   2.3,  23.7],\n",
       "       [165.6,  10. ,  17.6],\n",
       "       [156.6,   2.6,   8.3],\n",
       "       [218.5,   5.4,  27.4],\n",
       "       [ 56.2,   5.7,  29.7],\n",
       "       [287.6,  43. ,  71.8],\n",
       "       [253.8,  21.3,  30. ],\n",
       "       [205. ,  45.1,  19.6],\n",
       "       [139.5,   2.1,  26.6],\n",
       "       [191.1,  28.7,  18.2],\n",
       "       [286. ,  13.9,   3.7],\n",
       "       [ 18.7,  12.1,  23.4],\n",
       "       [ 39.5,  41.1,   5.8],\n",
       "       [ 75.5,  10.8,   6. ],\n",
       "       [ 17.2,   4.1,  31.6],\n",
       "       [166.8,  42. ,   3.6],\n",
       "       [149.7,  35.6,   6. ],\n",
       "       [ 38.2,   3.7,  13.8],\n",
       "       [ 94.2,   4.9,   8.1],\n",
       "       [177. ,   9.3,   6.4],\n",
       "       [283.6,  42. ,  66.2],\n",
       "       [232.1,   8.6,   8.7]])"
      ]
     },
     "execution_count": 98,
     "metadata": {},
     "output_type": "execute_result"
    }
   ],
   "source": [
    "x_train=df.loc[:,['TV','Radio','Newspaper']]\n",
    "x_train=x_train.to_numpy()\n",
    "x_train"
   ]
  },
  {
   "cell_type": "code",
   "execution_count": 99,
   "id": "35ba9acb",
   "metadata": {
    "scrolled": false
   },
   "outputs": [
    {
     "data": {
      "text/plain": [
       "array([[22.1],\n",
       "       [10.4],\n",
       "       [12. ],\n",
       "       [16.5],\n",
       "       [17.9],\n",
       "       [ 7.2],\n",
       "       [11.8],\n",
       "       [13.2],\n",
       "       [ 4.8],\n",
       "       [15.6],\n",
       "       [12.6],\n",
       "       [17.4],\n",
       "       [ 9.2],\n",
       "       [13.7],\n",
       "       [19. ],\n",
       "       [22.4],\n",
       "       [12.5],\n",
       "       [24.4],\n",
       "       [11.3],\n",
       "       [14.6],\n",
       "       [18. ],\n",
       "       [17.5],\n",
       "       [ 5.6],\n",
       "       [20.5],\n",
       "       [ 9.7],\n",
       "       [17. ],\n",
       "       [15. ],\n",
       "       [20.9],\n",
       "       [18.9],\n",
       "       [10.5],\n",
       "       [21.4],\n",
       "       [11.9],\n",
       "       [13.2],\n",
       "       [17.4],\n",
       "       [11.9],\n",
       "       [17.8],\n",
       "       [25.4],\n",
       "       [14.7],\n",
       "       [10.1],\n",
       "       [21.5],\n",
       "       [16.6],\n",
       "       [17.1],\n",
       "       [20.7],\n",
       "       [17.9],\n",
       "       [ 8.5],\n",
       "       [16.1],\n",
       "       [10.6],\n",
       "       [23.2],\n",
       "       [19.8],\n",
       "       [ 9.7],\n",
       "       [16.4],\n",
       "       [10.7],\n",
       "       [22.6],\n",
       "       [21.2],\n",
       "       [20.2],\n",
       "       [23.7],\n",
       "       [ 5.5],\n",
       "       [13.2],\n",
       "       [23.8],\n",
       "       [18.4],\n",
       "       [ 8.1],\n",
       "       [24.2],\n",
       "       [20.7],\n",
       "       [14. ],\n",
       "       [16. ],\n",
       "       [11.3],\n",
       "       [11. ],\n",
       "       [13.4],\n",
       "       [18.9],\n",
       "       [22.3],\n",
       "       [18.3],\n",
       "       [12.4],\n",
       "       [ 8.8],\n",
       "       [11. ],\n",
       "       [17. ],\n",
       "       [ 8.7],\n",
       "       [ 6.9],\n",
       "       [14.2],\n",
       "       [ 5.3],\n",
       "       [11. ],\n",
       "       [11.8],\n",
       "       [17.3],\n",
       "       [11.3],\n",
       "       [13.6],\n",
       "       [21.7],\n",
       "       [20.2],\n",
       "       [12. ],\n",
       "       [16. ],\n",
       "       [12.9],\n",
       "       [16.7],\n",
       "       [14. ],\n",
       "       [ 7.3],\n",
       "       [19.4],\n",
       "       [22.2],\n",
       "       [11.5],\n",
       "       [16.9],\n",
       "       [16.7],\n",
       "       [20.5],\n",
       "       [25.4],\n",
       "       [17.2],\n",
       "       [16.7],\n",
       "       [23.8],\n",
       "       [19.8],\n",
       "       [19.7],\n",
       "       [20.7],\n",
       "       [15. ],\n",
       "       [ 7.2],\n",
       "       [12. ],\n",
       "       [ 5.3],\n",
       "       [19.8],\n",
       "       [18.4],\n",
       "       [21.8],\n",
       "       [17.1],\n",
       "       [20.9],\n",
       "       [14.6],\n",
       "       [12.6],\n",
       "       [12.2],\n",
       "       [ 9.4],\n",
       "       [15.9],\n",
       "       [ 6.6],\n",
       "       [15.5],\n",
       "       [ 7. ],\n",
       "       [16.6],\n",
       "       [15.2],\n",
       "       [19.7],\n",
       "       [10.6],\n",
       "       [ 6.6],\n",
       "       [11.9],\n",
       "       [24.7],\n",
       "       [ 9.7],\n",
       "       [ 1.6],\n",
       "       [17.7],\n",
       "       [ 5.7],\n",
       "       [19.6],\n",
       "       [10.8],\n",
       "       [11.6],\n",
       "       [ 9.5],\n",
       "       [20.8],\n",
       "       [ 9.6],\n",
       "       [20.7],\n",
       "       [10.9],\n",
       "       [19.2],\n",
       "       [20.1],\n",
       "       [10.4],\n",
       "       [12.3],\n",
       "       [10.3],\n",
       "       [18.2],\n",
       "       [25.4],\n",
       "       [10.9],\n",
       "       [10.1],\n",
       "       [16.1],\n",
       "       [11.6],\n",
       "       [16.6],\n",
       "       [16. ],\n",
       "       [20.6],\n",
       "       [ 3.2],\n",
       "       [15.3],\n",
       "       [10.1],\n",
       "       [ 7.3],\n",
       "       [12.9],\n",
       "       [16.4],\n",
       "       [13.3],\n",
       "       [19.9],\n",
       "       [18. ],\n",
       "       [11.9],\n",
       "       [16.9],\n",
       "       [ 8. ],\n",
       "       [17.2],\n",
       "       [17.1],\n",
       "       [20. ],\n",
       "       [ 8.4],\n",
       "       [17.5],\n",
       "       [ 7.6],\n",
       "       [16.7],\n",
       "       [16.5],\n",
       "       [27. ],\n",
       "       [20.2],\n",
       "       [16.7],\n",
       "       [16.8],\n",
       "       [17.6],\n",
       "       [15.5],\n",
       "       [17.2],\n",
       "       [ 8.7],\n",
       "       [26.2],\n",
       "       [17.6],\n",
       "       [22.6],\n",
       "       [10.3],\n",
       "       [17.3],\n",
       "       [20.9],\n",
       "       [ 6.7],\n",
       "       [10.8],\n",
       "       [11.9],\n",
       "       [ 5.9],\n",
       "       [19.6],\n",
       "       [17.3],\n",
       "       [ 7.6],\n",
       "       [14. ],\n",
       "       [14.8],\n",
       "       [25.5],\n",
       "       [18.4]])"
      ]
     },
     "execution_count": 99,
     "metadata": {},
     "output_type": "execute_result"
    }
   ],
   "source": [
    "y_train=df.loc[:,['Sales']]\n",
    "y_train=y_train.to_numpy()\n",
    "y_train"
   ]
  },
  {
   "cell_type": "markdown",
   "id": "a793e5a4",
   "metadata": {},
   "source": [
    "# This function takes the input matrix values and provides us with the output vector"
   ]
  },
  {
   "cell_type": "code",
   "execution_count": 100,
   "id": "409c82d4",
   "metadata": {},
   "outputs": [],
   "source": [
    "def prediction_function(x, w, w_0): \n",
    "    p = np.dot(x, w) + w_0    \n",
    "    return p  "
   ]
  },
  {
   "cell_type": "markdown",
   "id": "20c23ac2",
   "metadata": {},
   "source": [
    "# This function provides the error of the prediction function compared to the actual values."
   ]
  },
  {
   "cell_type": "code",
   "execution_count": 101,
   "id": "a7834492",
   "metadata": {},
   "outputs": [],
   "source": [
    "def error_function(x, y, w, w_0): \n",
    "  \n",
    "    cost = 0\n",
    "    for i in range(x.shape[0]):                                \n",
    "        f = np.dot(x[i], w) + w_0  \n",
    "        cost = cost + (f - y[i])**2       \n",
    "    cost = cost / (2 * x.shape[0])                      \n",
    "    return cost"
   ]
  },
  {
   "cell_type": "markdown",
   "id": "5e7f0138",
   "metadata": {},
   "source": [
    "# This function calculates the derivative of the error function"
   ]
  },
  {
   "cell_type": "code",
   "execution_count": 102,
   "id": "a386c36d",
   "metadata": {},
   "outputs": [],
   "source": [
    "def gradient_function(x,y,w,w_0): \n",
    "    m,n = x.shape          \n",
    "    dw = np.zeros((n,))\n",
    "    dw_0 = 0.\n",
    "   \n",
    "    \n",
    "    \n",
    "    \n",
    "    \n",
    "\n",
    "    for i in range(m):                             \n",
    "        z = (np.dot(x[i], w) + w_0) - y[i]   \n",
    "        for j in range(n):                         \n",
    "            dw[j] = dw[j] + z * x[i, j]    \n",
    "        dw_0 = dw_0 + z                        \n",
    "    dw = dw / m                                \n",
    "    dw_0 = dw_0 / m  \n",
    "    \n",
    "    return dw_0,dw\n",
    "    \n",
    "    \n",
    "    \n",
    "   "
   ]
  },
  {
   "cell_type": "markdown",
   "id": "8a2ae85b",
   "metadata": {},
   "source": [
    "# In this function, we compute the values of the weight coefficients and also return the final error value."
   ]
  },
  {
   "cell_type": "code",
   "execution_count": 103,
   "id": "63ee09ff",
   "metadata": {},
   "outputs": [],
   "source": [
    "def gradient_descent_function(x,y,w,w_0,alpha,iteration): \n",
    "    \n",
    "    error = []\n",
    "    for i in range(iteration):\n",
    "            dw_0,dw = gradient_function(x, y, w, w_0)\n",
    "            w = w - alpha * dw              \n",
    "            w_0 = w_0 - alpha * dw_0 \n",
    "        \n",
    "        \n",
    "            if i<iteration:     \n",
    "                error.append( error_function(x, y, w, w_0))\n",
    "                \n",
    "           \n",
    "            \n",
    "            \n",
    "\n",
    "    print(error[iteration-1])\n",
    "    return w, w_0 \n",
    "        "
   ]
  },
  {
   "cell_type": "markdown",
   "id": "6a467c7b",
   "metadata": {},
   "source": [
    "# Now, in the section below, we find the values of the weight coefficients. Then, using the prediction function, we generate the output values and compare them with the actual values in the chart. The orange points represent the actual values, and the blue points represent the values predicted by us. Additionally, the error of the function is 5.45937105"
   ]
  },
  {
   "cell_type": "code",
   "execution_count": 104,
   "id": "954b7ca0",
   "metadata": {},
   "outputs": [
    {
     "name": "stdout",
     "output_type": "stream",
     "text": [
      "[5.45937105]\n"
     ]
    }
   ],
   "source": [
    "w_0=0\n",
    "w=np.zeros((x_train.shape[1],))\n",
    "w,w_0=gradient_descent_function(x_train,y_train,w,w_0,5.0e-7,1000)\n",
    "p=prediction_function(x_train,w,w_0)"
   ]
  },
  {
   "cell_type": "code",
   "execution_count": 105,
   "id": "ea43f56e",
   "metadata": {},
   "outputs": [
    {
     "data": {
      "text/plain": [
       "<matplotlib.collections.PathCollection at 0x1cb927f1e80>"
      ]
     },
     "execution_count": 105,
     "metadata": {},
     "output_type": "execute_result"
    },
    {
     "data": {
      "image/png": "[encoded data removed]",
      "text/plain": [
       "<Figure size 432x288 with 1 Axes>"
      ]
     },
     "metadata": {
      "needs_background": "light"
     },
     "output_type": "display_data"
    }
   ],
   "source": [
    "plt.scatter(x_train[:,:1],p)\n",
    "plt.scatter(x_train[:,:1],y_train)"
   ]
  },
  {
   "cell_type": "code",
   "execution_count": 106,
   "id": "072d8329",
   "metadata": {},
   "outputs": [
    {
     "data": {
      "text/plain": [
       "<matplotlib.collections.PathCollection at 0x1cb9144eee0>"
      ]
     },
     "execution_count": 106,
     "metadata": {},
     "output_type": "execute_result"
    },
    {
     "data": {
      "image/png": "[encoded data removed]",
      "text/plain": [
       "<Figure size 432x288 with 1 Axes>"
      ]
     },
     "metadata": {
      "needs_background": "light"
     },
     "output_type": "display_data"
    }
   ],
   "source": [
    "plt.scatter(x_train[:,1:2],p)\n",
    "plt.scatter(x_train[:,1:2],y_train)"
   ]
  },
  {
   "cell_type": "code",
   "execution_count": 107,
   "id": "be6746bb",
   "metadata": {},
   "outputs": [
    {
     "data": {
      "text/plain": [
       "<matplotlib.collections.PathCollection at 0x1cb92a82c10>"
      ]
     },
     "execution_count": 107,
     "metadata": {},
     "output_type": "execute_result"
    },
    {
     "data": {
      "image/png": "[encoded data removed]",
      "text/plain": [
       "<Figure size 432x288 with 1 Axes>"
      ]
     },
     "metadata": {
      "needs_background": "light"
     },
     "output_type": "display_data"
    }
   ],
   "source": [
    "\n",
    "plt.scatter(x_train[:,2:3],p)\n",
    "plt.scatter(x_train[:,2:3],y_train)"
   ]
  },
  {
   "cell_type": "markdown",
   "id": "305982d2",
   "metadata": {},
   "source": [
    "# Finally, we compare the predicted output values with the actual output values side by side"
   ]
  },
  {
   "cell_type": "code",
   "execution_count": 116,
   "id": "d2e7f49c",
   "metadata": {},
   "outputs": [
    {
     "data": {
      "text/plain": [
       "<matplotlib.collections.PathCollection at 0x1cb92b26670>"
      ]
     },
     "execution_count": 116,
     "metadata": {},
     "output_type": "execute_result"
    },
    {
     "data": {
      "image/png": "[encoded data removed]",
      "text/plain": [
       "<Figure size 432x288 with 1 Axes>"
      ]
     },
     "metadata": {
      "needs_background": "light"
     },
     "output_type": "display_data"
    }
   ],
   "source": [
    "plt.scatter(p,y_train)"
   ]
  }
 ],
 "metadata": {
  "kernelspec": {
   "display_name": "Python 3 (ipykernel)",
   "language": "python",
   "name": "python3"
  },
  "language_info": {
   "codemirror_mode": {
    "name": "ipython",
    "version": 3
   },
   "file_extension": ".py",
   "mimetype": "text/x-python",
   "name": "python",
   "nbconvert_exporter": "python",
   "pygments_lexer": "ipython3",
   "version": "3.9.12"
  }
 },
 "nbformat": 4,
 "nbformat_minor": 5
}
